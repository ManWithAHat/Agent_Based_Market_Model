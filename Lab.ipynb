{
 "cells": [
  {
   "cell_type": "code",
   "execution_count": 75,
   "id": "e3b73ff3-afe5-4257-a9a7-0c6a02e28d2b",
   "metadata": {},
   "outputs": [],
   "source": [
    "import yfinance as yf\n",
    "import pandas as pd\n",
    "import requests\n",
    "\n",
    "url = f\"https://www.alphavantage.co/query?function=TIME_SERIES_DAILY&symbol=VOO&apikey=KQ6OMU8QUYEDLUZF&outputsize=full\"\n",
    "response = requests.get(url)\n",
    "data = response.json()"
   ]
  },
  {
   "cell_type": "code",
   "execution_count": 123,
   "id": "e10ed042-e038-48c8-acbc-067b173bd5d7",
   "metadata": {},
   "outputs": [],
   "source": [
    "ts_data = data.get(\"Time Series (Daily)\", {})\n",
    "prices = []\n",
    "for x in ts_data:\n",
    "    prices.append(float(ts_data[x]['4. close']))\n",
    "\n",
    "prices.reverse()"
   ]
  },
  {
   "cell_type": "code",
   "execution_count": 157,
   "id": "417f47b0-d37e-4511-bcf1-e9428c61479b",
   "metadata": {},
   "outputs": [
    {
     "name": "stdout",
     "output_type": "stream",
     "text": [
      "Regime: Low\n",
      "  Mean Daily Return: 0.00066\n",
      "  Std Dev (Volatility): 0.00946\n",
      "  Days in Regime: 3667\n",
      "\n",
      "Regime: High\n",
      "  Mean Daily Return: -0.00134\n",
      "  Std Dev (Volatility): 0.12725\n",
      "  Days in Regime: 37\n",
      "\n"
     ]
    }
   ],
   "source": [
    "import numpy as np\n",
    "import pandas as pd\n",
    "from hmmlearn.hmm import GaussianHMM\n",
    "import matplotlib.pyplot as plt\n",
    "\n",
    "# Example: assume `prices` is a 1D NumPy array or list of daily stock prices\n",
    "def regime_segmentation(prices, n_states=2):\n",
    "    # Step 1: Compute log returns\n",
    "    log_returns = np.diff(np.log(prices)).reshape(-1, 1)\n",
    "\n",
    "    # Step 2: Fit a Gaussian HMM\n",
    "    model = GaussianHMM(n_components=n_states, covariance_type=\"full\", n_iter=1000)\n",
    "    model.fit(log_returns)\n",
    "\n",
    "    # Step 3: Predict hidden states\n",
    "    hidden_states = model.predict(log_returns)\n",
    "\n",
    "    # Step 4: Assign state statistics\n",
    "    regimes = []\n",
    "    for i in range(n_states):\n",
    "        state_returns = log_returns[hidden_states == i]\n",
    "        mean_return = np.mean(state_returns)\n",
    "        std_return = np.std(state_returns)\n",
    "        regimes.append({\n",
    "            'state': i,\n",
    "            'mean_daily_return': mean_return,\n",
    "            'std_daily_return': std_return,\n",
    "            'count': len(state_returns)\n",
    "        })\n",
    "\n",
    "    # Step 5: Sort regimes by volatility (std)\n",
    "    regimes_sorted = sorted(regimes, key=lambda x: x['std_daily_return'])\n",
    "    for i, r in enumerate(regimes_sorted):\n",
    "        r['regime'] = ['Low', 'High'][i]  # label by sorted volatility\n",
    "\n",
    "    return regimes_sorted, hidden_states\n",
    "\n",
    "regimes, state_sequence = regime_segmentation(prices)\n",
    "\n",
    "for regime in regimes:\n",
    "    print(f\"Regime: {regime['regime']}\")\n",
    "    print(f\"  Mean Daily Return: {regime['mean_daily_return']:.5f}\")\n",
    "    print(f\"  Std Dev (Volatility): {regime['std_daily_return']:.5f}\")\n",
    "    print(f\"  Days in Regime: {regime['count']}\")\n",
    "    print()\n"
   ]
  },
  {
   "cell_type": "code",
   "execution_count": 115,
   "id": "41dfb93b-31ab-4b1b-9d47-63fc79b5d543",
   "metadata": {},
   "outputs": [
    {
     "name": "stdout",
     "output_type": "stream",
     "text": [
      "Collecting hmmlearn\n",
      "  Downloading hmmlearn-0.3.3-cp312-cp312-win_amd64.whl.metadata (3.1 kB)\n",
      "Requirement already satisfied: numpy>=1.10 in c:\\users\\amazi\\anaconda3\\lib\\site-packages (from hmmlearn) (1.26.4)\n",
      "Requirement already satisfied: scikit-learn!=0.22.0,>=0.16 in c:\\users\\amazi\\anaconda3\\lib\\site-packages (from hmmlearn) (1.4.2)\n",
      "Requirement already satisfied: scipy>=0.19 in c:\\users\\amazi\\anaconda3\\lib\\site-packages (from hmmlearn) (1.13.1)\n",
      "Requirement already satisfied: joblib>=1.2.0 in c:\\users\\amazi\\anaconda3\\lib\\site-packages (from scikit-learn!=0.22.0,>=0.16->hmmlearn) (1.4.2)\n",
      "Requirement already satisfied: threadpoolctl>=2.0.0 in c:\\users\\amazi\\anaconda3\\lib\\site-packages (from scikit-learn!=0.22.0,>=0.16->hmmlearn) (2.2.0)\n",
      "Downloading hmmlearn-0.3.3-cp312-cp312-win_amd64.whl (127 kB)\n",
      "   ---------------------------------------- 0.0/127.3 kB ? eta -:--:--\n",
      "   ------ -------------------------------- 20.5/127.3 kB 640.0 kB/s eta 0:00:01\n",
      "   -------------------------------------- - 122.9/127.3 kB 1.8 MB/s eta 0:00:01\n",
      "   ---------------------------------------- 127.3/127.3 kB 1.9 MB/s eta 0:00:00\n",
      "Installing collected packages: hmmlearn\n",
      "Successfully installed hmmlearn-0.3.3\n"
     ]
    }
   ],
   "source": [
    "!pip install hmmlearn"
   ]
  },
  {
   "cell_type": "code",
   "execution_count": 165,
   "id": "f438f584-4a08-45a3-bc7c-902a445cfa7b",
   "metadata": {},
   "outputs": [
    {
     "name": "stdout",
     "output_type": "stream",
     "text": [
      "{'Low': {'mean_daily_return': 0.0007015040171695818, 'std_daily_return': 0.004093662304506883, 'count': 1233}, 'Mid': {'mean_daily_return': 0.0003544907479842397, 'std_daily_return': 0.007379604031489026, 'count': 1233}, 'High': {'mean_daily_return': 0.0008542049452281508, 'std_daily_return': 0.02608454782305211, 'count': 1234}}\n"
     ]
    }
   ],
   "source": [
    "\n",
    "def segment_by_volatility(prices, window=5):\n",
    "    prices = np.array(prices)\n",
    "    log_returns = np.diff(np.log(prices))\n",
    "    volatility = pd.Series(log_returns).rolling(window).std().to_numpy()\n",
    "\n",
    "    # Align lengths: discard first few values lost due to rolling\n",
    "    log_returns = log_returns[window - 1:]\n",
    "    volatility = volatility[window - 1:]\n",
    "\n",
    "    # Rank by volatility\n",
    "    sorted_indices = np.argsort(volatility)\n",
    "    n = len(volatility)\n",
    "    tercile_size = n // 3\n",
    "\n",
    "    buckets = {\n",
    "        'Low': sorted_indices[:tercile_size],\n",
    "        'Mid': sorted_indices[tercile_size:2*tercile_size],\n",
    "        'High': sorted_indices[2*tercile_size:]\n",
    "    }\n",
    "\n",
    "    regime_stats = {}\n",
    "    for regime, indices in buckets.items():\n",
    "        rets = log_returns[indices]\n",
    "        regime_stats[regime] = {\n",
    "            'mean_daily_return': np.mean(rets),\n",
    "            'std_daily_return': np.std(rets),\n",
    "            'count': len(rets)\n",
    "        }\n",
    "\n",
    "    return regime_stats\n",
    "print(segment_by_volatility(prices))\n"
   ]
  },
  {
   "cell_type": "code",
   "execution_count": null,
   "id": "c561af19-ed93-4564-8121-8343a877c287",
   "metadata": {},
   "outputs": [],
   "source": []
  }
 ],
 "metadata": {
  "kernelspec": {
   "display_name": "Python 3 (ipykernel)",
   "language": "python",
   "name": "python3"
  },
  "language_info": {
   "codemirror_mode": {
    "name": "ipython",
    "version": 3
   },
   "file_extension": ".py",
   "mimetype": "text/x-python",
   "name": "python",
   "nbconvert_exporter": "python",
   "pygments_lexer": "ipython3",
   "version": "3.12.4"
  }
 },
 "nbformat": 4,
 "nbformat_minor": 5
}
