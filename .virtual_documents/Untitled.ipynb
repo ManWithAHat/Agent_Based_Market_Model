import yfinance as yf
import pandas as pd
import requests

url = f"https://www.alphavantage.co/query?function=TIME_SERIES_DAILY&symbol=VOO&apikey=KQ6OMU8QUYEDLUZF&outputsize=full"
response = requests.get(url)
data = response.json()


ts_data = data.get("Time Series (Daily)", {})
prices = []
for x in ts_data:
    prices.append(float(ts_data[x]['4. close']))

prices.reverse()


import numpy as np
import pandas as pd
from hmmlearn.hmm import GaussianHMM
import matplotlib.pyplot as plt

# Example: assume `prices` is a 1D NumPy array or list of daily stock prices
def regime_segmentation(prices, n_states=2):
    # Step 1: Compute log returns
    log_returns = np.diff(np.log(prices)).reshape(-1, 1)

    # Step 2: Fit a Gaussian HMM
    model = GaussianHMM(n_components=n_states, covariance_type="full", n_iter=1000)
    model.fit(log_returns)

    # Step 3: Predict hidden states
    hidden_states = model.predict(log_returns)

    # Step 4: Assign state statistics
    regimes = []
    for i in range(n_states):
        state_returns = log_returns[hidden_states == i]
        mean_return = np.mean(state_returns)
        std_return = np.std(state_returns)
        regimes.append({
            'state': i,
            'mean_daily_return': mean_return,
            'std_daily_return': std_return,
            'count': len(state_returns)
        })

    # Step 5: Sort regimes by volatility (std)
    regimes_sorted = sorted(regimes, key=lambda x: x['std_daily_return'])
    for i, r in enumerate(regimes_sorted):
        r['regime'] = ['Low', 'High'][i]  # label by sorted volatility

    return regimes_sorted, hidden_states

regimes, state_sequence = regime_segmentation(prices)

for regime in regimes:
    print(f"Regime: {regime['regime']}")
    print(f"  Mean Daily Return: {regime['mean_daily_return']:.5f}")
    print(f"  Std Dev (Volatility): {regime['std_daily_return']:.5f}")
    print(f"  Days in Regime: {regime['count']}")
    print()



!pip install hmmlearn



def segment_by_volatility(prices, window=5):
    prices = np.array(prices)
    log_returns = np.diff(np.log(prices))
    volatility = pd.Series(log_returns).rolling(window).std().to_numpy()

    # Align lengths: discard first few values lost due to rolling
    log_returns = log_returns[window - 1:]
    volatility = volatility[window - 1:]

    # Rank by volatility
    sorted_indices = np.argsort(volatility)
    n = len(volatility)
    tercile_size = n // 3

    buckets = {
        'Low': sorted_indices[:tercile_size],
        'Mid': sorted_indices[tercile_size:2*tercile_size],
        'High': sorted_indices[2*tercile_size:]
    }

    regime_stats = {}
    for regime, indices in buckets.items():
        rets = log_returns[indices]
        regime_stats[regime] = {
            'mean_daily_return': np.mean(rets),
            'std_daily_return': np.std(rets),
            'count': len(rets)
        }

    return regime_stats
print(segment_by_volatility(prices))




